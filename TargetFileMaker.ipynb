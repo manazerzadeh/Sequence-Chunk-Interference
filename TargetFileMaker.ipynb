{
 "cells": [
  {
   "cell_type": "code",
   "execution_count": 1,
   "metadata": {},
   "outputs": [],
   "source": [
    "import pandas as pd\n",
    "import numpy as np"
   ]
  },
  {
   "cell_type": "code",
   "execution_count": 2,
   "metadata": {},
   "outputs": [],
   "source": [
    "g_sequences = {}\n",
    "g_chunks_sizes = {}\n",
    "digit_change = {}\n",
    "g_sequences[0] = ['13524232514', '51423252413', '35421252143', '14325242135'] #Group 1 sequences\n",
    "g_sequences[1] = ['13524232514', '51423252413', '41325242351', '14325242135'] #Group 2 sequences\n",
    "\n",
    "g_chunks_sizes[0] = ['2333', '3332', '2333', '3332']  #Group1 chunking structures\n",
    "g_chunks_sizes[1] = ['3332', '2333', '3332', '2333']  # Group2 chunking structures\n",
    "\n",
    "digit_change = [5, 7, 9]\n",
    "\n",
    "fingers = ['1', '2', '3', '4', '5']\n",
    "\n",
    "iti = 3000 \n",
    "execTime = 10000 # msecs for each trial maximum\n",
    "planTime = 0 # msecs for planning before movement \n",
    "hand = 2 #left or right hand\n",
    "\n",
    "total_sub_num = 10\n",
    "# total_num_blocks = 8\n",
    "num_train_blocks = 5\n",
    "num_test_blocks = 5\n",
    "total_num_blocks = num_train_blocks + num_test_blocks\n",
    "num_trials_per_train_block = 20\n",
    "num_seq_changed_trials_per_test_block = 8\n",
    "num_seq_unchanged_trials_per_test_block = 8\n",
    "num_random_trials_per_test_block = 8\n",
    "num_trials_per_test_block = num_seq_changed_trials_per_test_block + num_seq_unchanged_trials_per_test_block + num_random_trials_per_test_block\n"
   ]
  },
  {
   "cell_type": "code",
   "execution_count": 3,
   "metadata": {},
   "outputs": [],
   "source": [
    "def check_run(seq):\n",
    "    #check runs of 3\n",
    "    # for pos in range(len(seq)- 2):\n",
    "    #     if (int(seq[pos]) == int(seq[pos + 1]) + 1 and int(seq[pos+1]) == int(seq[pos+2]) + 1):\n",
    "    #         return True\n",
    "    #     if (int(seq[pos]) == int(seq[pos + 1]) - 1 and int(seq[pos+1]) == int(seq[pos+2]) - 1):\n",
    "    #         return True\n",
    "    \n",
    "    #check double press\n",
    "    \n",
    "    for pos in range(len(seq) - 1):\n",
    "        if(int(seq[pos]) == int(seq[pos+1])):\n",
    "            return True\n",
    "        \n",
    "    return False\n"
   ]
  },
  {
   "cell_type": "code",
   "execution_count": 4,
   "metadata": {},
   "outputs": [
    {
     "data": {
      "text/plain": [
       "False"
      ]
     },
     "execution_count": 4,
     "metadata": {},
     "output_type": "execute_result"
    }
   ],
   "source": [
    "check_run(\"153235\")"
   ]
  },
  {
   "cell_type": "code",
   "execution_count": 5,
   "metadata": {},
   "outputs": [],
   "source": [
    "## target file headers: [subNum, hand, isTrain, seq, planTime, execTime, iti, chunkSize, digitChangePos, digitChangeValue]\n",
    "for sub in range(6, total_sub_num):\n",
    "    # group  = int(np.random.rand() * 2)\n",
    "    group = sub % 2\n",
    "    subNum = sub+1\n",
    "    hand = 2\n",
    "    for block_num in range(1, total_num_blocks+1):\n",
    "        block = pd.DataFrame(columns=[\"subNum\", \"group\", \"hand\", \"isTrain\", \"seq\", \"planTime\", \"execTime\", \"iti\", \"chunkSize\", \"digitChangePos\", \"digitChangeValue\"])\n",
    "        # if (block_num%4 == 0):\n",
    "        if (block_num > num_train_blocks):\n",
    "            isTrain = 0\n",
    "            for trial_num in range(num_trials_per_test_block):\n",
    "                chunkSize = g_chunks_sizes[group][trial_num % 4]\n",
    "                digit_change_pos = np.random.choice(digit_change)\n",
    "                if (int (trial_num / num_seq_changed_trials_per_test_block) == 0): ## treatment sequence change digit todo: check whether to exclude original digit from new digit\n",
    "                    seq = g_sequences[group][trial_num % 4]\n",
    "                    while (True):\n",
    "                        digit_change_value = str(int(np.random.rand() * 5 + 1))\n",
    "                        new_seq = seq[:digit_change_pos] + digit_change_value + seq[digit_change_pos + 1 :]\n",
    "                        if(not check_run(new_seq)):\n",
    "                            break\n",
    "                if (int (trial_num / num_seq_changed_trials_per_test_block) == 1): ## treatment sequence unchanged\n",
    "                    seq = g_sequences[group][trial_num % 4] \n",
    "                    while (True):\n",
    "                        digit_change_value = seq[digit_change_pos]\n",
    "                        new_seq = seq[:digit_change_pos] + digit_change_value + seq[digit_change_pos + 1 :]\n",
    "                        if(not check_run(new_seq)):\n",
    "                            break\n",
    "                \n",
    "                if (int (trial_num / num_seq_changed_trials_per_test_block) == 2): ## random sequence ##todo: check whether need to exclude treatment seq from random sequence\n",
    "                    while (True):\n",
    "                        seq = ''.join(np.random.choice(fingers, 11))\n",
    "                        digit_change_value = str(int(np.random.rand() * 5 + 1))\n",
    "                        new_seq = seq[:digit_change_pos] + digit_change_value + seq[digit_change_pos + 1 :]\n",
    "                        if(not check_run(new_seq)):\n",
    "                            break\n",
    "                    \n",
    "                trial  = pd.DataFrame([[subNum, group, hand, isTrain, seq, planTime, execTime, iti, chunkSize, digit_change_pos, digit_change_value]], columns = block.columns)\n",
    "                block = pd.concat([block, trial], ignore_index=True)\n",
    "\n",
    "        \n",
    "        else:\n",
    "            isTrain = 1\n",
    "            for trial_num in range(num_trials_per_train_block):\n",
    "                seq = g_sequences[group][trial_num % 4]\n",
    "                chunkSize = g_chunks_sizes[group][trial_num % 4]\n",
    "                digit_change_pos = np.random.choice(digit_change)\n",
    "                while (True):\n",
    "                    digit_change_value = str(int(np.random.rand() * 5 + 1))\n",
    "                    new_seq = seq[:digit_change_pos] + digit_change_value + seq[digit_change_pos + 1 :]                    \n",
    "                    if(not check_run(new_seq)):\n",
    "                        break\n",
    "                trial  = pd.DataFrame([[subNum, group, hand, isTrain, seq, planTime, execTime, iti, chunkSize, digit_change_pos, digit_change_value]], columns = block.columns)\n",
    "                block = pd.concat([block, trial], ignore_index=True)\n",
    "                \n",
    "\n",
    "        block = block.sample(frac=1).reset_index(drop = True)\n",
    "        block.to_csv(f'CI1_subj{subNum}_group{group+1}_block{block_num}.tgt', index=False, sep='\\t')\n",
    "\n",
    "                \n",
    "\n",
    "    "
   ]
  }
 ],
 "metadata": {
  "kernelspec": {
   "display_name": "Python 3",
   "language": "python",
   "name": "python3"
  },
  "language_info": {
   "codemirror_mode": {
    "name": "ipython",
    "version": 3
   },
   "file_extension": ".py",
   "mimetype": "text/x-python",
   "name": "python",
   "nbconvert_exporter": "python",
   "pygments_lexer": "ipython3",
   "version": "3.9.6"
  }
 },
 "nbformat": 4,
 "nbformat_minor": 2
}
